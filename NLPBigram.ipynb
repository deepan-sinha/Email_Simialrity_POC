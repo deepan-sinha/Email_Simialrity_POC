{
 "cells": [
  {
   "cell_type": "code",
   "execution_count": 55,
   "id": "ad5fd592",
   "metadata": {},
   "outputs": [],
   "source": [
    "import nltk\n",
    "import pandas as pd\n",
    "from nltk.tokenize import word_tokenize\n",
    "from nltk.corpus import stopwords\n",
    "import string\n",
    "import re\n",
    "## for Bigram generator\n",
    "from nltk.metrics import BigramAssocMeasures\n",
    "from nltk.collocations import BigramCollocationFinder\n",
    "## for Trigram generator\n",
    "from nltk.collocations import TrigramCollocationFinder\n",
    "from nltk.metrics import TrigramAssocMeasures"
   ]
  },
  {
   "cell_type": "code",
   "execution_count": 39,
   "id": "beb18098",
   "metadata": {},
   "outputs": [],
   "source": [
    "df = pd.read_csv('emails.csv')"
   ]
  },
  {
   "cell_type": "code",
   "execution_count": 40,
   "id": "a22f0653",
   "metadata": {},
   "outputs": [
    {
     "data": {
      "text/html": [
       "<div>\n",
       "<style scoped>\n",
       "    .dataframe tbody tr th:only-of-type {\n",
       "        vertical-align: middle;\n",
       "    }\n",
       "\n",
       "    .dataframe tbody tr th {\n",
       "        vertical-align: top;\n",
       "    }\n",
       "\n",
       "    .dataframe thead th {\n",
       "        text-align: right;\n",
       "    }\n",
       "</style>\n",
       "<table border=\"1\" class=\"dataframe\">\n",
       "  <thead>\n",
       "    <tr style=\"text-align: right;\">\n",
       "      <th></th>\n",
       "      <th>text</th>\n",
       "      <th>spam</th>\n",
       "    </tr>\n",
       "  </thead>\n",
       "  <tbody>\n",
       "    <tr>\n",
       "      <th>0</th>\n",
       "      <td>Subject: naturally irresistible your corporate...</td>\n",
       "      <td>1</td>\n",
       "    </tr>\n",
       "    <tr>\n",
       "      <th>1</th>\n",
       "      <td>Subject: the stock trading gunslinger  fanny i...</td>\n",
       "      <td>1</td>\n",
       "    </tr>\n",
       "    <tr>\n",
       "      <th>2</th>\n",
       "      <td>Subject: unbelievable new homes made easy  im ...</td>\n",
       "      <td>1</td>\n",
       "    </tr>\n",
       "    <tr>\n",
       "      <th>3</th>\n",
       "      <td>Subject: 4 color printing special  request add...</td>\n",
       "      <td>1</td>\n",
       "    </tr>\n",
       "    <tr>\n",
       "      <th>4</th>\n",
       "      <td>Subject: do not have money , get software cds ...</td>\n",
       "      <td>1</td>\n",
       "    </tr>\n",
       "  </tbody>\n",
       "</table>\n",
       "</div>"
      ],
      "text/plain": [
       "                                                text  spam\n",
       "0  Subject: naturally irresistible your corporate...     1\n",
       "1  Subject: the stock trading gunslinger  fanny i...     1\n",
       "2  Subject: unbelievable new homes made easy  im ...     1\n",
       "3  Subject: 4 color printing special  request add...     1\n",
       "4  Subject: do not have money , get software cds ...     1"
      ]
     },
     "execution_count": 40,
     "metadata": {},
     "output_type": "execute_result"
    }
   ],
   "source": [
    "df_bigram = df[:5]\n",
    "df_bigram"
   ]
  },
  {
   "cell_type": "code",
   "execution_count": 41,
   "id": "1aea76e0",
   "metadata": {
    "scrolled": true
   },
   "outputs": [
    {
     "name": "stderr",
     "output_type": "stream",
     "text": [
      "c:\\users\\desinha\\appdata\\local\\programs\\python\\python39\\lib\\site-packages\\pandas\\core\\frame.py:4901: SettingWithCopyWarning: \n",
      "A value is trying to be set on a copy of a slice from a DataFrame\n",
      "\n",
      "See the caveats in the documentation: https://pandas.pydata.org/pandas-docs/stable/user_guide/indexing.html#returning-a-view-versus-a-copy\n",
      "  return super().drop(\n"
     ]
    }
   ],
   "source": [
    "df_bigram.drop(columns = 'spam', inplace = True)"
   ]
  },
  {
   "cell_type": "code",
   "execution_count": 42,
   "id": "a8dd8a6b",
   "metadata": {},
   "outputs": [],
   "source": [
    "def clean_email(text):\n",
    "    text = text.lower()\n",
    "    text = text.replace(\"subject:\", '')\n",
    "    text = re.sub('[^\\sa-zA-Z]', '', text)\n",
    "    return text"
   ]
  },
  {
   "cell_type": "code",
   "execution_count": 43,
   "id": "0890eb10",
   "metadata": {},
   "outputs": [
    {
     "name": "stderr",
     "output_type": "stream",
     "text": [
      "c:\\users\\desinha\\appdata\\local\\programs\\python\\python39\\lib\\site-packages\\pandas\\core\\frame.py:3607: SettingWithCopyWarning: \n",
      "A value is trying to be set on a copy of a slice from a DataFrame.\n",
      "Try using .loc[row_indexer,col_indexer] = value instead\n",
      "\n",
      "See the caveats in the documentation: https://pandas.pydata.org/pandas-docs/stable/user_guide/indexing.html#returning-a-view-versus-a-copy\n",
      "  self._set_item(key, value)\n"
     ]
    }
   ],
   "source": [
    "df_bigram['text1'] = df_bigram['text'].apply(clean_email)"
   ]
  },
  {
   "cell_type": "code",
   "execution_count": 44,
   "id": "72e6b63e",
   "metadata": {},
   "outputs": [
    {
     "data": {
      "text/html": [
       "<div>\n",
       "<style scoped>\n",
       "    .dataframe tbody tr th:only-of-type {\n",
       "        vertical-align: middle;\n",
       "    }\n",
       "\n",
       "    .dataframe tbody tr th {\n",
       "        vertical-align: top;\n",
       "    }\n",
       "\n",
       "    .dataframe thead th {\n",
       "        text-align: right;\n",
       "    }\n",
       "</style>\n",
       "<table border=\"1\" class=\"dataframe\">\n",
       "  <thead>\n",
       "    <tr style=\"text-align: right;\">\n",
       "      <th></th>\n",
       "      <th>text</th>\n",
       "      <th>text1</th>\n",
       "    </tr>\n",
       "  </thead>\n",
       "  <tbody>\n",
       "    <tr>\n",
       "      <th>0</th>\n",
       "      <td>Subject: naturally irresistible your corporate...</td>\n",
       "      <td>naturally irresistible your corporate identit...</td>\n",
       "    </tr>\n",
       "    <tr>\n",
       "      <th>1</th>\n",
       "      <td>Subject: the stock trading gunslinger  fanny i...</td>\n",
       "      <td>the stock trading gunslinger  fanny is merril...</td>\n",
       "    </tr>\n",
       "    <tr>\n",
       "      <th>2</th>\n",
       "      <td>Subject: unbelievable new homes made easy  im ...</td>\n",
       "      <td>unbelievable new homes made easy  im wanting ...</td>\n",
       "    </tr>\n",
       "    <tr>\n",
       "      <th>3</th>\n",
       "      <td>Subject: 4 color printing special  request add...</td>\n",
       "      <td>color printing special  request additional i...</td>\n",
       "    </tr>\n",
       "    <tr>\n",
       "      <th>4</th>\n",
       "      <td>Subject: do not have money , get software cds ...</td>\n",
       "      <td>do not have money  get software cds from here...</td>\n",
       "    </tr>\n",
       "  </tbody>\n",
       "</table>\n",
       "</div>"
      ],
      "text/plain": [
       "                                                text  \\\n",
       "0  Subject: naturally irresistible your corporate...   \n",
       "1  Subject: the stock trading gunslinger  fanny i...   \n",
       "2  Subject: unbelievable new homes made easy  im ...   \n",
       "3  Subject: 4 color printing special  request add...   \n",
       "4  Subject: do not have money , get software cds ...   \n",
       "\n",
       "                                               text1  \n",
       "0   naturally irresistible your corporate identit...  \n",
       "1   the stock trading gunslinger  fanny is merril...  \n",
       "2   unbelievable new homes made easy  im wanting ...  \n",
       "3    color printing special  request additional i...  \n",
       "4   do not have money  get software cds from here...  "
      ]
     },
     "execution_count": 44,
     "metadata": {},
     "output_type": "execute_result"
    }
   ],
   "source": [
    "df_bigram"
   ]
  },
  {
   "cell_type": "code",
   "execution_count": 45,
   "id": "ac34cfbc",
   "metadata": {},
   "outputs": [],
   "source": [
    "def tokenize_email(text):\n",
    "    token = word_tokenize(text)\n",
    "    stop = stopwords.words('english')\n",
    "    words = [word for word in token if word not in stop]\n",
    "    punctuations = list(string.punctuation)\n",
    "    words = [word for word in words if word not in punctuations]\n",
    "    return words"
   ]
  },
  {
   "cell_type": "code",
   "execution_count": 46,
   "id": "9ce55706",
   "metadata": {},
   "outputs": [
    {
     "name": "stderr",
     "output_type": "stream",
     "text": [
      "c:\\users\\desinha\\appdata\\local\\programs\\python\\python39\\lib\\site-packages\\pandas\\core\\frame.py:3607: SettingWithCopyWarning: \n",
      "A value is trying to be set on a copy of a slice from a DataFrame.\n",
      "Try using .loc[row_indexer,col_indexer] = value instead\n",
      "\n",
      "See the caveats in the documentation: https://pandas.pydata.org/pandas-docs/stable/user_guide/indexing.html#returning-a-view-versus-a-copy\n",
      "  self._set_item(key, value)\n"
     ]
    }
   ],
   "source": [
    "df_bigram['tokenized'] = df_bigram['text1'].apply(tokenize_email)"
   ]
  },
  {
   "cell_type": "code",
   "execution_count": 47,
   "id": "595a3548",
   "metadata": {
    "scrolled": true
   },
   "outputs": [
    {
     "data": {
      "text/html": [
       "<div>\n",
       "<style scoped>\n",
       "    .dataframe tbody tr th:only-of-type {\n",
       "        vertical-align: middle;\n",
       "    }\n",
       "\n",
       "    .dataframe tbody tr th {\n",
       "        vertical-align: top;\n",
       "    }\n",
       "\n",
       "    .dataframe thead th {\n",
       "        text-align: right;\n",
       "    }\n",
       "</style>\n",
       "<table border=\"1\" class=\"dataframe\">\n",
       "  <thead>\n",
       "    <tr style=\"text-align: right;\">\n",
       "      <th></th>\n",
       "      <th>text</th>\n",
       "      <th>text1</th>\n",
       "      <th>tokenized</th>\n",
       "    </tr>\n",
       "  </thead>\n",
       "  <tbody>\n",
       "    <tr>\n",
       "      <th>0</th>\n",
       "      <td>Subject: naturally irresistible your corporate...</td>\n",
       "      <td>naturally irresistible your corporate identit...</td>\n",
       "      <td>[naturally, irresistible, corporate, identity,...</td>\n",
       "    </tr>\n",
       "    <tr>\n",
       "      <th>1</th>\n",
       "      <td>Subject: the stock trading gunslinger  fanny i...</td>\n",
       "      <td>the stock trading gunslinger  fanny is merril...</td>\n",
       "      <td>[stock, trading, gunslinger, fanny, merrill, m...</td>\n",
       "    </tr>\n",
       "    <tr>\n",
       "      <th>2</th>\n",
       "      <td>Subject: unbelievable new homes made easy  im ...</td>\n",
       "      <td>unbelievable new homes made easy  im wanting ...</td>\n",
       "      <td>[unbelievable, new, homes, made, easy, im, wan...</td>\n",
       "    </tr>\n",
       "    <tr>\n",
       "      <th>3</th>\n",
       "      <td>Subject: 4 color printing special  request add...</td>\n",
       "      <td>color printing special  request additional i...</td>\n",
       "      <td>[color, printing, special, request, additional...</td>\n",
       "    </tr>\n",
       "    <tr>\n",
       "      <th>4</th>\n",
       "      <td>Subject: do not have money , get software cds ...</td>\n",
       "      <td>do not have money  get software cds from here...</td>\n",
       "      <td>[money, get, software, cds, software, compatib...</td>\n",
       "    </tr>\n",
       "  </tbody>\n",
       "</table>\n",
       "</div>"
      ],
      "text/plain": [
       "                                                text  \\\n",
       "0  Subject: naturally irresistible your corporate...   \n",
       "1  Subject: the stock trading gunslinger  fanny i...   \n",
       "2  Subject: unbelievable new homes made easy  im ...   \n",
       "3  Subject: 4 color printing special  request add...   \n",
       "4  Subject: do not have money , get software cds ...   \n",
       "\n",
       "                                               text1  \\\n",
       "0   naturally irresistible your corporate identit...   \n",
       "1   the stock trading gunslinger  fanny is merril...   \n",
       "2   unbelievable new homes made easy  im wanting ...   \n",
       "3    color printing special  request additional i...   \n",
       "4   do not have money  get software cds from here...   \n",
       "\n",
       "                                           tokenized  \n",
       "0  [naturally, irresistible, corporate, identity,...  \n",
       "1  [stock, trading, gunslinger, fanny, merrill, m...  \n",
       "2  [unbelievable, new, homes, made, easy, im, wan...  \n",
       "3  [color, printing, special, request, additional...  \n",
       "4  [money, get, software, cds, software, compatib...  "
      ]
     },
     "execution_count": 47,
     "metadata": {},
     "output_type": "execute_result"
    }
   ],
   "source": [
    "df_bigram"
   ]
  },
  {
   "cell_type": "code",
   "execution_count": 53,
   "id": "77393b2c",
   "metadata": {},
   "outputs": [],
   "source": [
    "##words1 = ['naturally', 'irresistible', 'cute', 'chocolate', 'tasty', 'food']\n",
    "def bigram_generator(text):\n",
    "    bigram_collocation = BigramCollocationFinder.from_words(text)\n",
    "    bigramlist = bigram_collocation.nbest(BigramAssocMeasures.likelihood_ratio, 10)\n",
    "    return bigramlist    "
   ]
  },
  {
   "cell_type": "code",
   "execution_count": 54,
   "id": "94dea606",
   "metadata": {},
   "outputs": [
    {
     "name": "stderr",
     "output_type": "stream",
     "text": [
      "c:\\users\\desinha\\appdata\\local\\programs\\python\\python39\\lib\\site-packages\\pandas\\core\\frame.py:3607: SettingWithCopyWarning: \n",
      "A value is trying to be set on a copy of a slice from a DataFrame.\n",
      "Try using .loc[row_indexer,col_indexer] = value instead\n",
      "\n",
      "See the caveats in the documentation: https://pandas.pydata.org/pandas-docs/stable/user_guide/indexing.html#returning-a-view-versus-a-copy\n",
      "  self._set_item(key, value)\n"
     ]
    },
    {
     "data": {
      "text/html": [
       "<div>\n",
       "<style scoped>\n",
       "    .dataframe tbody tr th:only-of-type {\n",
       "        vertical-align: middle;\n",
       "    }\n",
       "\n",
       "    .dataframe tbody tr th {\n",
       "        vertical-align: top;\n",
       "    }\n",
       "\n",
       "    .dataframe thead th {\n",
       "        text-align: right;\n",
       "    }\n",
       "</style>\n",
       "<table border=\"1\" class=\"dataframe\">\n",
       "  <thead>\n",
       "    <tr style=\"text-align: right;\">\n",
       "      <th></th>\n",
       "      <th>text</th>\n",
       "      <th>text1</th>\n",
       "      <th>tokenized</th>\n",
       "      <th>bigram</th>\n",
       "    </tr>\n",
       "  </thead>\n",
       "  <tbody>\n",
       "    <tr>\n",
       "      <th>0</th>\n",
       "      <td>Subject: naturally irresistible your corporate...</td>\n",
       "      <td>naturally irresistible your corporate identit...</td>\n",
       "      <td>[naturally, irresistible, corporate, identity,...</td>\n",
       "      <td>[(aim, hotat), (amount, changes), (benefits, c...</td>\n",
       "    </tr>\n",
       "    <tr>\n",
       "      <th>1</th>\n",
       "      <td>Subject: the stock trading gunslinger  fanny i...</td>\n",
       "      <td>the stock trading gunslinger  fanny is merril...</td>\n",
       "      <td>[stock, trading, gunslinger, fanny, merrill, m...</td>\n",
       "      <td>[(attainder, penultimate), (bedtime, nameable)...</td>\n",
       "    </tr>\n",
       "    <tr>\n",
       "      <th>2</th>\n",
       "      <td>Subject: unbelievable new homes made easy  im ...</td>\n",
       "      <td>unbelievable new homes made easy  im wanting ...</td>\n",
       "      <td>[unbelievable, new, homes, made, easy, im, wan...</td>\n",
       "      <td>[(advantage, limited), (approval, form), (appr...</td>\n",
       "    </tr>\n",
       "    <tr>\n",
       "      <th>3</th>\n",
       "      <td>Subject: 4 color printing special  request add...</td>\n",
       "      <td>color printing special  request additional i...</td>\n",
       "      <td>[color, printing, special, request, additional...</td>\n",
       "      <td>[(additional, information), (e, mail), (form, ...</td>\n",
       "    </tr>\n",
       "    <tr>\n",
       "      <th>4</th>\n",
       "      <td>Subject: do not have money , get software cds ...</td>\n",
       "      <td>do not have money  get software cds from here...</td>\n",
       "      <td>[money, get, software, cds, software, compatib...</td>\n",
       "      <td>[(along, best), (best, yet), (comedies, ended)...</td>\n",
       "    </tr>\n",
       "  </tbody>\n",
       "</table>\n",
       "</div>"
      ],
      "text/plain": [
       "                                                text  \\\n",
       "0  Subject: naturally irresistible your corporate...   \n",
       "1  Subject: the stock trading gunslinger  fanny i...   \n",
       "2  Subject: unbelievable new homes made easy  im ...   \n",
       "3  Subject: 4 color printing special  request add...   \n",
       "4  Subject: do not have money , get software cds ...   \n",
       "\n",
       "                                               text1  \\\n",
       "0   naturally irresistible your corporate identit...   \n",
       "1   the stock trading gunslinger  fanny is merril...   \n",
       "2   unbelievable new homes made easy  im wanting ...   \n",
       "3    color printing special  request additional i...   \n",
       "4   do not have money  get software cds from here...   \n",
       "\n",
       "                                           tokenized  \\\n",
       "0  [naturally, irresistible, corporate, identity,...   \n",
       "1  [stock, trading, gunslinger, fanny, merrill, m...   \n",
       "2  [unbelievable, new, homes, made, easy, im, wan...   \n",
       "3  [color, printing, special, request, additional...   \n",
       "4  [money, get, software, cds, software, compatib...   \n",
       "\n",
       "                                              bigram  \n",
       "0  [(aim, hotat), (amount, changes), (benefits, c...  \n",
       "1  [(attainder, penultimate), (bedtime, nameable)...  \n",
       "2  [(advantage, limited), (approval, form), (appr...  \n",
       "3  [(additional, information), (e, mail), (form, ...  \n",
       "4  [(along, best), (best, yet), (comedies, ended)...  "
      ]
     },
     "execution_count": 54,
     "metadata": {},
     "output_type": "execute_result"
    }
   ],
   "source": [
    "df_bigram['bigram'] = df_bigram['tokenized'].apply(bigram_generator)\n",
    "df_bigram"
   ]
  },
  {
   "cell_type": "code",
   "execution_count": 56,
   "id": "bc7f385d",
   "metadata": {},
   "outputs": [],
   "source": [
    "def trigram_generator(text):\n",
    "    trigram_collocation = TrigramCollocationFinder.from_words(text)\n",
    "    # Top 10 most occurring collocations\n",
    "    trigramlist = trigram_collocation.nbest(TrigramAssocMeasures.likelihood_ratio, 10)\n",
    "    return trigramlist"
   ]
  },
  {
   "cell_type": "code",
   "execution_count": 57,
   "id": "b1c99f1a",
   "metadata": {},
   "outputs": [
    {
     "name": "stderr",
     "output_type": "stream",
     "text": [
      "c:\\users\\desinha\\appdata\\local\\programs\\python\\python39\\lib\\site-packages\\pandas\\core\\frame.py:3607: SettingWithCopyWarning: \n",
      "A value is trying to be set on a copy of a slice from a DataFrame.\n",
      "Try using .loc[row_indexer,col_indexer] = value instead\n",
      "\n",
      "See the caveats in the documentation: https://pandas.pydata.org/pandas-docs/stable/user_guide/indexing.html#returning-a-view-versus-a-copy\n",
      "  self._set_item(key, value)\n"
     ]
    },
    {
     "data": {
      "text/html": [
       "<div>\n",
       "<style scoped>\n",
       "    .dataframe tbody tr th:only-of-type {\n",
       "        vertical-align: middle;\n",
       "    }\n",
       "\n",
       "    .dataframe tbody tr th {\n",
       "        vertical-align: top;\n",
       "    }\n",
       "\n",
       "    .dataframe thead th {\n",
       "        text-align: right;\n",
       "    }\n",
       "</style>\n",
       "<table border=\"1\" class=\"dataframe\">\n",
       "  <thead>\n",
       "    <tr style=\"text-align: right;\">\n",
       "      <th></th>\n",
       "      <th>text</th>\n",
       "      <th>text1</th>\n",
       "      <th>tokenized</th>\n",
       "      <th>bigram</th>\n",
       "      <th>trigram</th>\n",
       "    </tr>\n",
       "  </thead>\n",
       "  <tbody>\n",
       "    <tr>\n",
       "      <th>0</th>\n",
       "      <td>Subject: naturally irresistible your corporate...</td>\n",
       "      <td>naturally irresistible your corporate identit...</td>\n",
       "      <td>[naturally, irresistible, corporate, identity,...</td>\n",
       "      <td>[(aim, hotat), (amount, changes), (benefits, c...</td>\n",
       "      <td>[(aim, hotat, nowadays), (amount, changes, ext...</td>\n",
       "    </tr>\n",
       "    <tr>\n",
       "      <th>1</th>\n",
       "      <td>Subject: the stock trading gunslinger  fanny i...</td>\n",
       "      <td>the stock trading gunslinger  fanny is merril...</td>\n",
       "      <td>[stock, trading, gunslinger, fanny, merrill, m...</td>\n",
       "      <td>[(attainder, penultimate), (bedtime, nameable)...</td>\n",
       "      <td>[(bedtime, nameable, attire), (boar, duane, pl...</td>\n",
       "    </tr>\n",
       "    <tr>\n",
       "      <th>2</th>\n",
       "      <td>Subject: unbelievable new homes made easy  im ...</td>\n",
       "      <td>unbelievable new homes made easy  im wanting ...</td>\n",
       "      <td>[unbelievable, new, homes, made, easy, im, wan...</td>\n",
       "      <td>[(advantage, limited), (approval, form), (appr...</td>\n",
       "      <td>[(advantage, limited, time), (approval, form, ...</td>\n",
       "    </tr>\n",
       "    <tr>\n",
       "      <th>3</th>\n",
       "      <td>Subject: 4 color printing special  request add...</td>\n",
       "      <td>color printing special  request additional i...</td>\n",
       "      <td>[color, printing, special, request, additional...</td>\n",
       "      <td>[(additional, information), (e, mail), (form, ...</td>\n",
       "      <td>[(form, pdf, format), (order, form, pdf), (pri...</td>\n",
       "    </tr>\n",
       "    <tr>\n",
       "      <th>4</th>\n",
       "      <td>Subject: do not have money , get software cds ...</td>\n",
       "      <td>do not have money  get software cds from here...</td>\n",
       "      <td>[money, get, software, cds, software, compatib...</td>\n",
       "      <td>[(along, best), (best, yet), (comedies, ended)...</td>\n",
       "      <td>[(along, best, yet), (best, yet, tradgedies), ...</td>\n",
       "    </tr>\n",
       "  </tbody>\n",
       "</table>\n",
       "</div>"
      ],
      "text/plain": [
       "                                                text  \\\n",
       "0  Subject: naturally irresistible your corporate...   \n",
       "1  Subject: the stock trading gunslinger  fanny i...   \n",
       "2  Subject: unbelievable new homes made easy  im ...   \n",
       "3  Subject: 4 color printing special  request add...   \n",
       "4  Subject: do not have money , get software cds ...   \n",
       "\n",
       "                                               text1  \\\n",
       "0   naturally irresistible your corporate identit...   \n",
       "1   the stock trading gunslinger  fanny is merril...   \n",
       "2   unbelievable new homes made easy  im wanting ...   \n",
       "3    color printing special  request additional i...   \n",
       "4   do not have money  get software cds from here...   \n",
       "\n",
       "                                           tokenized  \\\n",
       "0  [naturally, irresistible, corporate, identity,...   \n",
       "1  [stock, trading, gunslinger, fanny, merrill, m...   \n",
       "2  [unbelievable, new, homes, made, easy, im, wan...   \n",
       "3  [color, printing, special, request, additional...   \n",
       "4  [money, get, software, cds, software, compatib...   \n",
       "\n",
       "                                              bigram  \\\n",
       "0  [(aim, hotat), (amount, changes), (benefits, c...   \n",
       "1  [(attainder, penultimate), (bedtime, nameable)...   \n",
       "2  [(advantage, limited), (approval, form), (appr...   \n",
       "3  [(additional, information), (e, mail), (form, ...   \n",
       "4  [(along, best), (best, yet), (comedies, ended)...   \n",
       "\n",
       "                                             trigram  \n",
       "0  [(aim, hotat, nowadays), (amount, changes, ext...  \n",
       "1  [(bedtime, nameable, attire), (boar, duane, pl...  \n",
       "2  [(advantage, limited, time), (approval, form, ...  \n",
       "3  [(form, pdf, format), (order, form, pdf), (pri...  \n",
       "4  [(along, best, yet), (best, yet, tradgedies), ...  "
      ]
     },
     "execution_count": 57,
     "metadata": {},
     "output_type": "execute_result"
    }
   ],
   "source": [
    "df_bigram['trigram'] = df_bigram['tokenized'].apply(trigram_generator)\n",
    "df_bigram"
   ]
  },
  {
   "cell_type": "code",
   "execution_count": 58,
   "id": "565cda79",
   "metadata": {},
   "outputs": [],
   "source": [
    "## copy to excel\n",
    "df_bigram.to_excel('FinaloutputNLP.xlsx')"
   ]
  },
  {
   "cell_type": "code",
   "execution_count": null,
   "id": "f33e7d5f",
   "metadata": {},
   "outputs": [],
   "source": []
  },
  {
   "cell_type": "code",
   "execution_count": null,
   "id": "2c7f0549",
   "metadata": {},
   "outputs": [],
   "source": []
  }
 ],
 "metadata": {
  "kernelspec": {
   "display_name": "Python 3 (ipykernel)",
   "language": "python",
   "name": "python3"
  },
  "language_info": {
   "codemirror_mode": {
    "name": "ipython",
    "version": 3
   },
   "file_extension": ".py",
   "mimetype": "text/x-python",
   "name": "python",
   "nbconvert_exporter": "python",
   "pygments_lexer": "ipython3",
   "version": "3.9.6"
  }
 },
 "nbformat": 4,
 "nbformat_minor": 5
}
